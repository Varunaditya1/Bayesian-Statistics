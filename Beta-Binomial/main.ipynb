{
  "nbformat": 4,
  "nbformat_minor": 0,
  "metadata": {
    "colab": {
      "provenance": []
    },
    "kernelspec": {
      "name": "python3",
      "display_name": "Python 3"
    },
    "language_info": {
      "name": "python"
    }
  },
  "cells": [
    {
      "cell_type": "code",
      "execution_count": null,
      "metadata": {
        "id": "6FYZarNrZU4q"
      },
      "outputs": [],
      "source": [
        "# importing the required libraries\n",
        "\n",
        "import numpy as np\n",
        "import pandas as pd\n",
        "import scipy.stats as st\n",
        "import math\n",
        "import matplotlib.pyplot as plt\n",
        "import warnings\n",
        "warnings.filterwarnings('ignore')"
      ]
    },
    {
      "cell_type": "code",
      "source": [
        "# importing the collected data\n",
        "\n",
        "# data1 = pd.read_csv('SOCR-HeightWeight.csv')\n",
        "data2 = pd.read_csv('Features.csv')\n"
      ],
      "metadata": {
        "id": "m3ZHmpwvb2tM"
      },
      "execution_count": null,
      "outputs": []
    },
    {
      "cell_type": "code",
      "source": [
        "data2.head()"
      ],
      "metadata": {
        "colab": {
          "base_uri": "https://localhost:8080/",
          "height": 206
        },
        "id": "_IThJxXD-p6W",
        "outputId": "ac8486c4-08fa-4381-d0cc-ace5c2d7ec07"
      },
      "execution_count": null,
      "outputs": [
        {
          "output_type": "execute_result",
          "data": {
            "text/plain": [
              "                       id               name  duration  energy  key  loudness  \\\n",
              "0  0VjIjW4GlUZAMYd2vXMi3b    Blinding Lights      3.33   0.730    1    -5.934   \n",
              "1  7qiZfU4dY1lWllzX7mPBI3       Shape of You      3.90   0.652    1    -3.183   \n",
              "2  2XU0oxnq2qxCpomAAuJY8K       Dance Monkey      3.49   0.588    6    -6.400   \n",
              "3  7qEHsqek33rTcFNT9PFqLf  Someone You Loved      3.04   0.405    1    -5.679   \n",
              "4  0e7ipj03S05BNilyu5bRzt           Rockstar      3.64   0.520    5    -6.136   \n",
              "\n",
              "   mode  speechiness  acousticness  instrumentalness  liveness  valence  \\\n",
              "0     1       0.0598       0.00146          0.000095    0.0897    0.334   \n",
              "1     0       0.0802       0.58100          0.000000    0.0931    0.931   \n",
              "2     0       0.0924       0.69200          0.000104    0.1490    0.513   \n",
              "3     1       0.0319       0.75100          0.000000    0.1050    0.446   \n",
              "4     0       0.0712       0.12400          0.000070    0.1310    0.129   \n",
              "\n",
              "     tempo  danceability  \n",
              "0  171.005         0.514  \n",
              "1   95.977         0.825  \n",
              "2   98.027         0.824  \n",
              "3  109.891         0.501  \n",
              "4  159.801         0.585  "
            ],
            "text/html": [
              "\n",
              "  <div id=\"df-810d81b8-b8b9-44c1-a13d-8879304e7162\">\n",
              "    <div class=\"colab-df-container\">\n",
              "      <div>\n",
              "<style scoped>\n",
              "    .dataframe tbody tr th:only-of-type {\n",
              "        vertical-align: middle;\n",
              "    }\n",
              "\n",
              "    .dataframe tbody tr th {\n",
              "        vertical-align: top;\n",
              "    }\n",
              "\n",
              "    .dataframe thead th {\n",
              "        text-align: right;\n",
              "    }\n",
              "</style>\n",
              "<table border=\"1\" class=\"dataframe\">\n",
              "  <thead>\n",
              "    <tr style=\"text-align: right;\">\n",
              "      <th></th>\n",
              "      <th>id</th>\n",
              "      <th>name</th>\n",
              "      <th>duration</th>\n",
              "      <th>energy</th>\n",
              "      <th>key</th>\n",
              "      <th>loudness</th>\n",
              "      <th>mode</th>\n",
              "      <th>speechiness</th>\n",
              "      <th>acousticness</th>\n",
              "      <th>instrumentalness</th>\n",
              "      <th>liveness</th>\n",
              "      <th>valence</th>\n",
              "      <th>tempo</th>\n",
              "      <th>danceability</th>\n",
              "    </tr>\n",
              "  </thead>\n",
              "  <tbody>\n",
              "    <tr>\n",
              "      <th>0</th>\n",
              "      <td>0VjIjW4GlUZAMYd2vXMi3b</td>\n",
              "      <td>Blinding Lights</td>\n",
              "      <td>3.33</td>\n",
              "      <td>0.730</td>\n",
              "      <td>1</td>\n",
              "      <td>-5.934</td>\n",
              "      <td>1</td>\n",
              "      <td>0.0598</td>\n",
              "      <td>0.00146</td>\n",
              "      <td>0.000095</td>\n",
              "      <td>0.0897</td>\n",
              "      <td>0.334</td>\n",
              "      <td>171.005</td>\n",
              "      <td>0.514</td>\n",
              "    </tr>\n",
              "    <tr>\n",
              "      <th>1</th>\n",
              "      <td>7qiZfU4dY1lWllzX7mPBI3</td>\n",
              "      <td>Shape of You</td>\n",
              "      <td>3.90</td>\n",
              "      <td>0.652</td>\n",
              "      <td>1</td>\n",
              "      <td>-3.183</td>\n",
              "      <td>0</td>\n",
              "      <td>0.0802</td>\n",
              "      <td>0.58100</td>\n",
              "      <td>0.000000</td>\n",
              "      <td>0.0931</td>\n",
              "      <td>0.931</td>\n",
              "      <td>95.977</td>\n",
              "      <td>0.825</td>\n",
              "    </tr>\n",
              "    <tr>\n",
              "      <th>2</th>\n",
              "      <td>2XU0oxnq2qxCpomAAuJY8K</td>\n",
              "      <td>Dance Monkey</td>\n",
              "      <td>3.49</td>\n",
              "      <td>0.588</td>\n",
              "      <td>6</td>\n",
              "      <td>-6.400</td>\n",
              "      <td>0</td>\n",
              "      <td>0.0924</td>\n",
              "      <td>0.69200</td>\n",
              "      <td>0.000104</td>\n",
              "      <td>0.1490</td>\n",
              "      <td>0.513</td>\n",
              "      <td>98.027</td>\n",
              "      <td>0.824</td>\n",
              "    </tr>\n",
              "    <tr>\n",
              "      <th>3</th>\n",
              "      <td>7qEHsqek33rTcFNT9PFqLf</td>\n",
              "      <td>Someone You Loved</td>\n",
              "      <td>3.04</td>\n",
              "      <td>0.405</td>\n",
              "      <td>1</td>\n",
              "      <td>-5.679</td>\n",
              "      <td>1</td>\n",
              "      <td>0.0319</td>\n",
              "      <td>0.75100</td>\n",
              "      <td>0.000000</td>\n",
              "      <td>0.1050</td>\n",
              "      <td>0.446</td>\n",
              "      <td>109.891</td>\n",
              "      <td>0.501</td>\n",
              "    </tr>\n",
              "    <tr>\n",
              "      <th>4</th>\n",
              "      <td>0e7ipj03S05BNilyu5bRzt</td>\n",
              "      <td>Rockstar</td>\n",
              "      <td>3.64</td>\n",
              "      <td>0.520</td>\n",
              "      <td>5</td>\n",
              "      <td>-6.136</td>\n",
              "      <td>0</td>\n",
              "      <td>0.0712</td>\n",
              "      <td>0.12400</td>\n",
              "      <td>0.000070</td>\n",
              "      <td>0.1310</td>\n",
              "      <td>0.129</td>\n",
              "      <td>159.801</td>\n",
              "      <td>0.585</td>\n",
              "    </tr>\n",
              "  </tbody>\n",
              "</table>\n",
              "</div>\n",
              "      <button class=\"colab-df-convert\" onclick=\"convertToInteractive('df-810d81b8-b8b9-44c1-a13d-8879304e7162')\"\n",
              "              title=\"Convert this dataframe to an interactive table.\"\n",
              "              style=\"display:none;\">\n",
              "        \n",
              "  <svg xmlns=\"http://www.w3.org/2000/svg\" height=\"24px\"viewBox=\"0 0 24 24\"\n",
              "       width=\"24px\">\n",
              "    <path d=\"M0 0h24v24H0V0z\" fill=\"none\"/>\n",
              "    <path d=\"M18.56 5.44l.94 2.06.94-2.06 2.06-.94-2.06-.94-.94-2.06-.94 2.06-2.06.94zm-11 1L8.5 8.5l.94-2.06 2.06-.94-2.06-.94L8.5 2.5l-.94 2.06-2.06.94zm10 10l.94 2.06.94-2.06 2.06-.94-2.06-.94-.94-2.06-.94 2.06-2.06.94z\"/><path d=\"M17.41 7.96l-1.37-1.37c-.4-.4-.92-.59-1.43-.59-.52 0-1.04.2-1.43.59L10.3 9.45l-7.72 7.72c-.78.78-.78 2.05 0 2.83L4 21.41c.39.39.9.59 1.41.59.51 0 1.02-.2 1.41-.59l7.78-7.78 2.81-2.81c.8-.78.8-2.07 0-2.86zM5.41 20L4 18.59l7.72-7.72 1.47 1.35L5.41 20z\"/>\n",
              "  </svg>\n",
              "      </button>\n",
              "      \n",
              "  <style>\n",
              "    .colab-df-container {\n",
              "      display:flex;\n",
              "      flex-wrap:wrap;\n",
              "      gap: 12px;\n",
              "    }\n",
              "\n",
              "    .colab-df-convert {\n",
              "      background-color: #E8F0FE;\n",
              "      border: none;\n",
              "      border-radius: 50%;\n",
              "      cursor: pointer;\n",
              "      display: none;\n",
              "      fill: #1967D2;\n",
              "      height: 32px;\n",
              "      padding: 0 0 0 0;\n",
              "      width: 32px;\n",
              "    }\n",
              "\n",
              "    .colab-df-convert:hover {\n",
              "      background-color: #E2EBFA;\n",
              "      box-shadow: 0px 1px 2px rgba(60, 64, 67, 0.3), 0px 1px 3px 1px rgba(60, 64, 67, 0.15);\n",
              "      fill: #174EA6;\n",
              "    }\n",
              "\n",
              "    [theme=dark] .colab-df-convert {\n",
              "      background-color: #3B4455;\n",
              "      fill: #D2E3FC;\n",
              "    }\n",
              "\n",
              "    [theme=dark] .colab-df-convert:hover {\n",
              "      background-color: #434B5C;\n",
              "      box-shadow: 0px 1px 3px 1px rgba(0, 0, 0, 0.15);\n",
              "      filter: drop-shadow(0px 1px 2px rgba(0, 0, 0, 0.3));\n",
              "      fill: #FFFFFF;\n",
              "    }\n",
              "  </style>\n",
              "\n",
              "      <script>\n",
              "        const buttonEl =\n",
              "          document.querySelector('#df-810d81b8-b8b9-44c1-a13d-8879304e7162 button.colab-df-convert');\n",
              "        buttonEl.style.display =\n",
              "          google.colab.kernel.accessAllowed ? 'block' : 'none';\n",
              "\n",
              "        async function convertToInteractive(key) {\n",
              "          const element = document.querySelector('#df-810d81b8-b8b9-44c1-a13d-8879304e7162');\n",
              "          const dataTable =\n",
              "            await google.colab.kernel.invokeFunction('convertToInteractive',\n",
              "                                                     [key], {});\n",
              "          if (!dataTable) return;\n",
              "\n",
              "          const docLinkHtml = 'Like what you see? Visit the ' +\n",
              "            '<a target=\"_blank\" href=https://colab.research.google.com/notebooks/data_table.ipynb>data table notebook</a>'\n",
              "            + ' to learn more about interactive tables.';\n",
              "          element.innerHTML = '';\n",
              "          dataTable['output_type'] = 'display_data';\n",
              "          await google.colab.output.renderOutput(dataTable, element);\n",
              "          const docLink = document.createElement('div');\n",
              "          docLink.innerHTML = docLinkHtml;\n",
              "          element.appendChild(docLink);\n",
              "        }\n",
              "      </script>\n",
              "    </div>\n",
              "  </div>\n",
              "  "
            ]
          },
          "metadata": {},
          "execution_count": 3
        }
      ]
    },
    {
      "cell_type": "code",
      "source": [
        "freq = [0]*10\n",
        "energy=data2['energy']                                              #Energy is a measure from 0.0 to 1.0 and represents a perceptual measure of intensity and activity. Typically, energetic tracks\n",
        "x_axis = [str(i/10) for i in range(10)]\n",
        "\n",
        "for i in range(100):\n",
        "  freq[int(energy[i]*10)] = freq[int(energy[i]*10)] + 1     \n",
        "energy.plot(kind=\"hist\")\n",
        "plt.xlabel(\"Energy\")\n",
        "plt.ylabel(\"Frequency\")\n",
        "plt.show()"
      ],
      "metadata": {
        "colab": {
          "base_uri": "https://localhost:8080/",
          "height": 279
        },
        "id": "GBb_uxij-5cV",
        "outputId": "1236f662-93fe-40be-da73-fe7c79e90d24"
      },
      "execution_count": null,
      "outputs": [
        {
          "output_type": "display_data",
          "data": {
            "text/plain": [
              "<Figure size 432x288 with 1 Axes>"
            ],
            "image/png": "[encoded data removed]"
          },
          "metadata": {
            "needs_background": "light"
          }
        }
      ]
    },
    {
      "cell_type": "markdown",
      "source": [
        "## MOM"
      ],
      "metadata": {
        "id": "ROsJPaB9Qbnu"
      }
    },
    {
      "cell_type": "markdown",
      "source": [
        "Now we use MOM ( same for MLE) to fit normal distribution to the above data.\n",
        "\n",
        "*  $E[X] = μ = \\frac{1}{n}\\Sigma x_i$ (Sample Mean)\n",
        "\n",
        "*  $E[X^2] = \\mu^2 + \\sigma^2 = \\frac{1}{n}Σ x_i^2$\n",
        "\n",
        "where, \n",
        "* $x_i$ are i.i.d realized values of X\n",
        "* $Y ∼$ 𝓝$( μ, σ)$ is the normal distribution that fits the sample data."
      ],
      "metadata": {
        "id": "mwAcWnmNQf7f"
      }
    },
    {
      "cell_type": "code",
      "source": [
        "mean = energy.mean()\n",
        "mom_2 = np.mean([i*i for i in energy])                                          # This is second moment = mean^2 + std^2\n",
        "var=np.var(energy)                                                              # This is var = second moment - first moment\n",
        "std = math.sqrt(var)                                                            # This is std = (var)^1/2\n",
        "print(\"The Mean (as well as first moment) of the data is: \" , mean)             \n",
        "print(\"The Mean (as well as second moment) of the data is: \" , str(mom_2))             \n",
        "print(\"The Variance of the data is: \" , str(var))\n",
        "print(\"The Standard Deviation of the data is: \"+ str(std))\n"
      ],
      "metadata": {
        "id": "VpfGyvUWN9Sy",
        "colab": {
          "base_uri": "https://localhost:8080/"
        },
        "outputId": "e9e96a10-948e-4c72-cbaa-f0cbbe21a788"
      },
      "execution_count": null,
      "outputs": [
        {
          "output_type": "stream",
          "name": "stdout",
          "text": [
            "The Mean (as well as first moment) of the data is:  0.6255\n",
            "The Mean (as well as second moment) of the data is:  0.41660846\n",
            "The Variance of the data is:  0.02535821\n",
            "The Standard Deviation of the data is: 0.15924261364345915\n"
          ]
        }
      ]
    },
    {
      "cell_type": "code",
      "source": [
        "X_axis = [i/100 for i in range(100)]\n",
        "x_axis = [i/10 for i in range(10)]\n",
        "plt.plot(X_axis,st.norm.pdf(X_axis,mean,math.sqrt(var)))\n",
        "plt.bar(x_axis,[(10*i)/90 for i in freq],width = 0.1,alpha = 0.5)\n",
        "plt.title(\"MOM and MLE\")\n",
        "plt.show()"
      ],
      "metadata": {
        "id": "0lm9iUtIVEW2",
        "colab": {
          "base_uri": "https://localhost:8080/",
          "height": 281
        },
        "outputId": "e7648732-985f-4067-f79d-ef03abdc82e3"
      },
      "execution_count": null,
      "outputs": [
        {
          "output_type": "display_data",
          "data": {
            "text/plain": [
              "<Figure size 432x288 with 1 Axes>"
            ],
            "image/png": "[encoded data removed]"
          },
          "metadata": {
            "needs_background": "light"
          }
        }
      ]
    },
    {
      "cell_type": "markdown",
      "source": [
        "#  Beta Binomial "
      ],
      "metadata": {
        "id": "9Idh35RhirDS"
      }
    },
    {
      "cell_type": "markdown",
      "source": [
        "## Prior Distribution\n",
        "\n",
        "First we fit a beta distribution to out give sample data which is prior distribution.\n",
        "\n",
        "$X \\sim beta(α,β)$ \n",
        "\n",
        "where,\n",
        "\n",
        "* $mean = \\frac{α}{\\alpha + \\beta}$\n",
        "* $var = \\frac{\\alpha\\beta}{(\\alpha + \\beta)^2(\\alpha + \\beta + 1)}$"
      ],
      "metadata": {
        "id": "cSlfsu75iwTX"
      }
    },
    {
      "cell_type": "code",
      "source": [
        "priorData = []\n",
        "balance = data2['energy']\n",
        "mean = np.mean(balance)  \n",
        "print(mean)\n",
        "print(data2.shape)\n",
        "n = 7\n",
        "for i in range (0,int (100/n)):\n",
        "  y=0\n",
        "  for z in range (0,n):\n",
        "    y+=(0.6< data2['energy'][n*i + z]) \n",
        "    priorData.append(y/n)\n",
        "prior = pd.DataFrame(priorData)"
      ],
      "metadata": {
        "colab": {
          "base_uri": "https://localhost:8080/"
        },
        "id": "kXkuFlw1m5XP",
        "outputId": "f344a67b-6235-466c-fcef-a098c5e76cca"
      },
      "execution_count": null,
      "outputs": [
        {
          "output_type": "stream",
          "name": "stdout",
          "text": [
            "0.6255\n",
            "(100, 14)\n"
          ]
        }
      ]
    },
    {
      "cell_type": "code",
      "source": [
        "plt.hist(priorData)\n",
        "pd.DataFrame(priorData).plot(kind='kde')\n",
        "\n",
        "plt.show()\n"
      ],
      "metadata": {
        "colab": {
          "base_uri": "https://localhost:8080/",
          "height": 513
        },
        "id": "Bf6qmi4Vs0AQ",
        "outputId": "8881c9d6-e9fc-494c-9de5-c30d9ec27d11"
      },
      "execution_count": null,
      "outputs": [
        {
          "output_type": "display_data",
          "data": {
            "text/plain": [
              "<Figure size 432x288 with 1 Axes>"
            ],
            "image/png": "[encoded data removed]"
          },
          "metadata": {
            "needs_background": "light"
          }
        },
        {
          "output_type": "display_data",
          "data": {
            "text/plain": [
              "<Figure size 432x288 with 1 Axes>"
            ],
            "image/png": "[encoded data removed]"
          },
          "metadata": {
            "needs_background": "light"
          }
        }
      ]
    },
    {
      "cell_type": "code",
      "source": [
        "alpha = ((1-mean)/var - 1/mean)*pow(mean,2)\n",
        "print(\"alpha = \"+str(alpha))\n",
        "\n",
        "beta = alpha*(1/mean - 1)\n",
        "print(\"beta = \"+str(beta))\n",
        "\n",
        "prior = st.beta(alpha,beta)"
      ],
      "metadata": {
        "colab": {
          "base_uri": "https://localhost:8080/"
        },
        "id": "iVGB0mwqiqwi",
        "outputId": "0536b3bd-9186-4609-ee44-dd18ef366130"
      },
      "execution_count": null,
      "outputs": [
        {
          "output_type": "stream",
          "name": "stdout",
          "text": [
            "alpha = 5.152637282757734\n",
            "beta = 3.0849922660156226\n"
          ]
        }
      ]
    },
    {
      "cell_type": "code",
      "source": [
        "x_axis = np.linspace(0,1,100)\n",
        "\n",
        "plt.plot(x_axis,prior.pdf(x_axis),color= 'black',label=\"prior\")\n",
        "plt.fill(x_axis,prior.pdf(x_axis),color= '#FDFD96',label=\"prior\")\n",
        "plt.ylabel(\"pdf of prior f(x)\")\n",
        "plt.xlabel(\"x\")\n",
        "plt.title(\"pdf of beta(\"+str(int(alpha))+\",\"+str(int(beta))+\")\")\n",
        "plt.legend()\n",
        "plt.show()"
      ],
      "metadata": {
        "colab": {
          "base_uri": "https://localhost:8080/",
          "height": 295
        },
        "id": "FpCD2457jnam",
        "outputId": "a394bf81-0a14-49c6-e054-029147bfa670"
      },
      "execution_count": null,
      "outputs": [
        {
          "output_type": "display_data",
          "data": {
            "text/plain": [
              "<Figure size 432x288 with 1 Axes>"
            ],
            "image/png": "[encoded data removed]"
          },
          "metadata": {
            "needs_background": "light"
          }
        }
      ]
    },
    {
      "cell_type": "markdown",
      "source": [
        "## Likelihood Distribution\n",
        "\n",
        "Now we use the maximum likelihood funtion. In this scenario it follows binomial distribution.\n",
        "\n",
        "<center> $L \\mid π \\sim Bin(n,π)$ </center>\n",
        "\n",
        "Where, \n",
        "* n : Number of people tested\n",
        "* π : Probability of a songs having more energy than mean"
      ],
      "metadata": {
        "id": "IEHnDF1A8BQM"
      }
    },
    {
      "cell_type": "code",
      "source": [
        "# Size of data\n",
        "n = len(priorData)\n",
        "\n",
        "# Realized value of proportion of energy\n",
        "y = int(sum(priorData))\n",
        "p = y/n\n",
        "\n",
        "print(\"n = \"+str(n))\n",
        "print(\"y = \"+str(y))\n",
        "print(\"p = \"+str(p))\n",
        "\n",
        "likelihood = st.binom(n,p)"
      ],
      "metadata": {
        "colab": {
          "base_uri": "https://localhost:8080/"
        },
        "id": "cX6PYjW78FXa",
        "outputId": "4c01c86a-3acc-4a23-91d9-c9a17f7ec331"
      },
      "execution_count": null,
      "outputs": [
        {
          "output_type": "stream",
          "name": "stdout",
          "text": [
            "n = 98\n",
            "y = 32\n",
            "p = 0.32653061224489793\n"
          ]
        }
      ]
    },
    {
      "cell_type": "code",
      "source": [
        "r_values = [i for i in range(1,n)]\n",
        "# list of pmf values\n",
        "dist = [st.binom.pmf(r, n, p) for r in r_values ]\n",
        "# plotting the graph \n",
        "plt.plot(r_values, dist, label = \"Likelihood\")\n",
        "plt.title(\"Likelihood Distribution bin(\"+str(n)+\",\"+str(int(100*p)/100)+\")\")\n",
        "plt.legend()\n",
        "plt.show()"
      ],
      "metadata": {
        "colab": {
          "base_uri": "https://localhost:8080/",
          "height": 281
        },
        "id": "ZpP5u3c69kfY",
        "outputId": "52f8e4ba-8856-4ef9-d047-36dc6c7bb0d5"
      },
      "execution_count": null,
      "outputs": [
        {
          "output_type": "display_data",
          "data": {
            "text/plain": [
              "<Figure size 432x288 with 1 Axes>"
            ],
            "image/png": "[encoded data removed]"
          },
          "metadata": {
            "needs_background": "light"
          }
        }
      ]
    },
    {
      "cell_type": "code",
      "source": [
        "## combined plot\n",
        "plt.figure(figsize = (8,5))\n",
        "plt.fill(x_axis,prior.pdf(x_axis),color = '#FDFD96',label = \"prior\",alpha = 1)\n",
        "plt.fill([i/n for i in r_values], [i*n for i in dist], label = \"Likelihood(scaled)\",alpha=0.75)\n",
        "# plt.title(\"Likelihood Distribution bin(11698,0.13)\")\n",
        "plt.legend()\n",
        "plt.show()"
      ],
      "metadata": {
        "colab": {
          "base_uri": "https://localhost:8080/",
          "height": 320
        },
        "id": "wve9WQT39vBA",
        "outputId": "2bb35f4f-1d36-420c-d248-36196ae84b3c"
      },
      "execution_count": null,
      "outputs": [
        {
          "output_type": "display_data",
          "data": {
            "text/plain": [
              "<Figure size 576x360 with 1 Axes>"
            ],
            "image/png": "[encoded data removed]"
          },
          "metadata": {
            "needs_background": "light"
          }
        }
      ]
    },
    {
      "cell_type": "code",
      "source": [
        "print(\"Likelihood mean = \" + str(p))\n",
        "print(\"Prior mean = \" + str(mean))"
      ],
      "metadata": {
        "colab": {
          "base_uri": "https://localhost:8080/"
        },
        "id": "D66j3xcA99hl",
        "outputId": "fc254f1e-afbd-41a7-f8a0-89657ebd4735"
      },
      "execution_count": null,
      "outputs": [
        {
          "output_type": "stream",
          "name": "stdout",
          "text": [
            "Likelihood mean = 0.32653061224489793\n",
            "Prior mean = 0.6255\n"
          ]
        }
      ]
    },
    {
      "cell_type": "markdown",
      "source": [
        "## Posterior Distribution\n",
        "\n",
        "<center> $\\pi \\mid L = y \\sim beta(\\alpha', \\beta')$ </center>\n",
        "\n",
        "where,\n",
        "\n",
        "* $\\alpha' = \\alpha + y$\n",
        "* $\\beta' =  \\beta + n - y$\n",
        "* $y$ is the realized value of number of songs which have more energy in $n$ set"
      ],
      "metadata": {
        "id": "iSe9jkT5-CW_"
      }
    },
    {
      "cell_type": "code",
      "source": [
        "post_alpha = alpha + y\n",
        "post_beta = beta + n - y\n",
        "post_mean = post_alpha/(post_alpha+post_beta)\n",
        "print(\"posterior alpha = \"+str(post_alpha))\n",
        "print(\"posterior beta = \"+str(post_beta))\n",
        "\n",
        "posterior = st.beta(post_alpha,post_beta)\n",
        "print(\"Posterior mean = \"+str(post_mean))"
      ],
      "metadata": {
        "colab": {
          "base_uri": "https://localhost:8080/"
        },
        "id": "Y4_NWJ06-DLb",
        "outputId": "227ea44b-2dae-4683-c448-6fab65196ef3"
      },
      "execution_count": null,
      "outputs": [
        {
          "output_type": "stream",
          "name": "stdout",
          "text": [
            "posterior alpha = 37.15263728275774\n",
            "posterior beta = 69.08499226601562\n",
            "Posterior mean = 0.34971259656825343\n"
          ]
        }
      ]
    },
    {
      "cell_type": "code",
      "source": [
        "plt.fill(x_axis,posterior.pdf(x_axis),color= 'g',label=\"posterior\",alpha = 0.75)\n",
        "plt.plot(x_axis,posterior.pdf(x_axis),color= 'black',label=\"posterior\")\n",
        "plt.ylabel(\"pdf of posterior f(x)\")\n",
        "plt.xlabel(\"x\")\n",
        "plt.xlim(0.2,0.7)\n",
        "plt.legend()\n",
        "plt.show()"
      ],
      "metadata": {
        "colab": {
          "base_uri": "https://localhost:8080/",
          "height": 279
        },
        "id": "rx9GrHoI-KBs",
        "outputId": "ed644626-d6a1-4318-cc0c-f0d99ac09541"
      },
      "execution_count": null,
      "outputs": [
        {
          "output_type": "display_data",
          "data": {
            "text/plain": [
              "<Figure size 432x288 with 1 Axes>"
            ],
            "image/png": "[encoded data removed]"
          },
          "metadata": {
            "needs_background": "light"
          }
        }
      ]
    },
    {
      "cell_type": "code",
      "source": [
        "## combined plot\n",
        "plt.figure(figsize = (8,6))\n",
        "plt.fill(x_axis,prior.pdf(x_axis),color = '#FDFD96',label = \"prior\")\n",
        "plt.fill(x_axis,posterior.pdf(x_axis),color= 'g',label=\"posterior\",alpha = 0.75)\n",
        "plt.fill([i/n for i in r_values], [i*n for i in dist],color = \"#add8e6\", label = \"Likelihood(scaled)\",alpha = 0.75)\n",
        "plt.plot(x_axis,posterior.pdf(x_axis),color= 'black')\n",
        "plt.plot(x_axis,prior.pdf(x_axis),color= 'black')\n",
        "plt.plot([i/n for i in r_values], [i*n for i in dist],color = \"black\")\n",
        "plt.axvline(x = mean, color = '#FFFF14',linestyle = 'dashed',label = 'Prior Mean')\n",
        "plt.axvline(x = p,color = 'b',linestyle = 'dashed',label = 'Likelihood Mean(scaled)')\n",
        "plt.axvline(x = post_mean,color = 'g',linestyle = 'dashed',label = 'Posterior Mean')\n",
        "plt.xlim(0.2,0.7)\n",
        "plt.legend()\n",
        "plt.show()"
      ],
      "metadata": {
        "colab": {
          "base_uri": "https://localhost:8080/",
          "height": 374
        },
        "id": "0cAgpeCl-OX1",
        "outputId": "aecd311e-5f97-4fab-85ef-0c342aca426a"
      },
      "execution_count": null,
      "outputs": [
        {
          "output_type": "display_data",
          "data": {
            "text/plain": [
              "<Figure size 576x432 with 1 Axes>"
            ],
            "image/png": "[encoded data removed]"
          },
          "metadata": {
            "needs_background": "light"
          }
        }
      ]
    },
    {
      "cell_type": "code",
      "source": [
        "[(post_mean-2*math.sqrt(0.000843311793395))*100,(post_mean+2*math.sqrt(0.000843311793395))*100]"
      ],
      "metadata": {
        "colab": {
          "base_uri": "https://localhost:8080/"
        },
        "id": "WGc3JHmjDH2Q",
        "outputId": "c36df4c9-b8d8-47f8-d974-38dc623f01dd"
      },
      "execution_count": null,
      "outputs": [
        {
          "output_type": "execute_result",
          "data": {
            "text/plain": [
              "[29.163293426224477, 40.77922588742621]"
            ]
          },
          "metadata": {},
          "execution_count": 18
        }
      ]
    },
    {
      "cell_type": "code",
      "source": [
        "[(mean-2*std)*100, (mean+2*std)*100]"
      ],
      "metadata": {
        "colab": {
          "base_uri": "https://localhost:8080/"
        },
        "id": "xFekeFTXDJh6",
        "outputId": "b6bbe0e7-4c87-4c65-ce58-10dcfe245783"
      },
      "execution_count": null,
      "outputs": [
        {
          "output_type": "execute_result",
          "data": {
            "text/plain": [
              "[30.701477271308164, 94.39852272869183]"
            ]
          },
          "metadata": {},
          "execution_count": 19
        }
      ]
    }
  ]
}